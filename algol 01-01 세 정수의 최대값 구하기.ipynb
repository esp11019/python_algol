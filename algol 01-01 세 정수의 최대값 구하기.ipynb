{
 "cells": [
  {
   "cell_type": "code",
   "execution_count": 1,
   "id": "398eccbe",
   "metadata": {},
   "outputs": [
    {
     "name": "stdout",
     "output_type": "stream",
     "text": [
      "세 정수의 최댓값을 구합니다.\n",
      "정수 a의 값을 입력하세요.:1\n",
      "정수 b의 값을 입력하세요.:2\n",
      "정수 c의 값을 입력하세요.:3\n",
      "최댓값을 3입니다.\n"
     ]
    }
   ],
   "source": [
    "# 세 정수의 최대값 구하기\n",
    "\n",
    "print(\"세 정수의 최댓값을 구합니다.\")\n",
    "a = int(input(\"정수 a의 값을 입력하세요.:\"))\n",
    "b = int(input(\"정수 b의 값을 입력하세요.:\"))\n",
    "c = int(input(\"정수 c의 값을 입력하세요.:\"))\n",
    "\n",
    "maximum = a\n",
    "\n",
    "if b > maximum : maximum = b\n",
    "if c > maximum : maximum = c\n",
    "\n",
    "print(f\"최댓값을 {maximum}입니다.\")\n"
   ]
  }
 ],
 "metadata": {
  "kernelspec": {
   "display_name": "Python 3 (ipykernel)",
   "language": "python",
   "name": "python3"
  },
  "language_info": {
   "codemirror_mode": {
    "name": "ipython",
    "version": 3
   },
   "file_extension": ".py",
   "mimetype": "text/x-python",
   "name": "python",
   "nbconvert_exporter": "python",
   "pygments_lexer": "ipython3",
   "version": "3.11.3"
  }
 },
 "nbformat": 4,
 "nbformat_minor": 5
}
