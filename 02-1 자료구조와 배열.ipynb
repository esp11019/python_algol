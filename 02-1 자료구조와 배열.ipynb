{
 "cells": [
  {
   "cell_type": "markdown",
   "id": "40c4557b",
   "metadata": {},
   "source": [
    "# 리스트의 기초"
   ]
  },
  {
   "cell_type": "code",
   "execution_count": 2,
   "id": "959b9594",
   "metadata": {},
   "outputs": [
    {
     "name": "stdout",
     "output_type": "stream",
     "text": [
      "학생 그룹 점수의 합계와 평균을 구합니다.\n",
      "1번 학생의 점수를 입력하세요.: 10\n",
      "2번 학생의 점수를 입력하세요.: 10\n",
      "3번 학생의 점수를 입력하세요.: 10\n",
      "4번 학생의 점수를 입력하세요.: 10\n",
      "5번 학생의 점수를 입력하세요.: 10\n",
      "합계는 50 입니다.\n",
      "평균은 10.0 입니다.\n"
     ]
    }
   ],
   "source": [
    "# 실습 2-1\n",
    "\n",
    "# 학생 5명의 시험 점수를 입력받아 합계와 평균을 출력하기\n",
    "\n",
    "print('학생 그룹 점수의 합계와 평균을 구합니다.')\n",
    "\n",
    "score1 = int(input('1번 학생의 점수를 입력하세요.: '))\n",
    "score2 = int(input('2번 학생의 점수를 입력하세요.: '))\n",
    "score3 = int(input('3번 학생의 점수를 입력하세요.: '))\n",
    "score4 = int(input('4번 학생의 점수를 입력하세요.: '))\n",
    "score5 = int(input('5번 학생의 점수를 입력하세요.: '))\n",
    "\n",
    "total = 0 \n",
    "total += score1\n",
    "total += score2\n",
    "total += score3\n",
    "total += score4\n",
    "total += score5\n",
    "\n",
    "print(\"합계는 {} 입니다.\".format(total))\n",
    "print(\"평균은 {} 입니다.\".format(total/5))"
   ]
  },
  {
   "cell_type": "code",
   "execution_count": 11,
   "id": "4c75e79e",
   "metadata": {},
   "outputs": [
    {
     "name": "stdout",
     "output_type": "stream",
     "text": [
      "['a', 'b', 'c']\n",
      "[]\n",
      "[]\n"
     ]
    }
   ],
   "source": [
    "# 리스트는 원소를 변경할 수 있는 뮤터블 list형 객체(mutable)\n",
    "\n",
    "list03 = ['a','b','c',]\n",
    "print(list03)\n",
    "list04 = list()\n",
    "list05 = []\n",
    "print(list04)\n",
    "print(list05)"
   ]
  },
  {
   "cell_type": "code",
   "execution_count": 13,
   "id": "4b885604",
   "metadata": {},
   "outputs": [
    {
     "name": "stdout",
     "output_type": "stream",
     "text": [
      "[1, 2, 3]\n",
      "[1, 2, 3]\n",
      "[1, 2, 3]\n"
     ]
    }
   ],
   "source": [
    "list06 = list([1,2,3])\n",
    "list07 = list((1,2,3))\n",
    "list08 = list({1,2,3})\n",
    "print(list06)\n",
    "print(list07)\n",
    "print(list08)"
   ]
  },
  {
   "cell_type": "code",
   "execution_count": 15,
   "id": "db0bf894",
   "metadata": {},
   "outputs": [
    {
     "name": "stdout",
     "output_type": "stream",
     "text": [
      "[0, 1, 2, 3, 4, 5, 6]\n",
      "[3, 4, 5, 6, 7]\n",
      "[3, 5, 7, 9, 11]\n"
     ]
    }
   ],
   "source": [
    "list09 = list(range(7))\n",
    "list10 = list(range(3,8))\n",
    "list11 = list(range(3,13,2))\n",
    "print(list09)\n",
    "print(list10)\n",
    "print(list11)"
   ]
  },
  {
   "cell_type": "code",
   "execution_count": 20,
   "id": "4b993524",
   "metadata": {},
   "outputs": [
    {
     "name": "stdout",
     "output_type": "stream",
     "text": [
      "[None, None, None, None, None]\n",
      "[None, None, None, 'a', None]\n"
     ]
    }
   ],
   "source": [
    "list12 = [None] * 5\n",
    "print(list12)\n",
    "list12[3] = 'a'\n",
    "print(list12)"
   ]
  },
  {
   "cell_type": "markdown",
   "id": "950a824d",
   "metadata": {},
   "source": [
    "# 튜플의 기초"
   ]
  },
  {
   "cell_type": "code",
   "execution_count": 22,
   "id": "d21fedf9",
   "metadata": {},
   "outputs": [
    {
     "name": "stdout",
     "output_type": "stream",
     "text": [
      "()\n",
      "()\n",
      "(1,)\n",
      "(1,)\n"
     ]
    }
   ],
   "source": [
    "tuple01 = ()\n",
    "tuple02 = tuple()\n",
    "tuple03 = 1,\n",
    "tuple04 = (1,)\n",
    "print(tuple01)\n",
    "print(tuple02)\n",
    "print(tuple03)\n",
    "print(tuple04)"
   ]
  },
  {
   "cell_type": "code",
   "execution_count": 25,
   "id": "ed6ca358",
   "metadata": {},
   "outputs": [
    {
     "name": "stdout",
     "output_type": "stream",
     "text": [
      "(1, 2, 3)\n",
      "(1, 2, 3)\n",
      "(1, 2, 3)\n",
      "(1, 2, 3)\n",
      "('a', 'b', 'c')\n"
     ]
    }
   ],
   "source": [
    "tuple05 = 1,2,3\n",
    "tuple06 = 1,2,3,\n",
    "tuple07 = (1,2,3)\n",
    "tuple07_01 = (1,2,3,)\n",
    "tuple08 = 'a','b','c'\n",
    "print(tuple05)\n",
    "print(tuple06)\n",
    "print(tuple07)\n",
    "print(tuple07_01)\n",
    "print(tuple08)"
   ]
  },
  {
   "cell_type": "code",
   "execution_count": 29,
   "id": "e2f568d0",
   "metadata": {},
   "outputs": [
    {
     "name": "stdout",
     "output_type": "stream",
     "text": [
      "<class 'tuple'>\n",
      "<class 'tuple'>\n"
     ]
    }
   ],
   "source": [
    "v01 = 1,\n",
    "v02 = (2,)\n",
    "print(type(v01))\n",
    "print(type(v02))"
   ]
  },
  {
   "cell_type": "code",
   "execution_count": 36,
   "id": "e84fb838",
   "metadata": {},
   "outputs": [
    {
     "name": "stdout",
     "output_type": "stream",
     "text": [
      "()\n",
      "('a', 'b', 'c', ' ', 'd', 'e', 'f')\n",
      "('ab', 'bc', 'ca')\n",
      "(1, 2, 3)\n"
     ]
    }
   ],
   "source": [
    "tuple09 = tuple()\n",
    "tuple10 = tuple('abc def')\n",
    "tuple11 = tuple(['ab','bc','ca'])\n",
    "tuple12 = tuple({1,2,3})\n",
    "print(tuple09)\n",
    "print(tuple10)\n",
    "print(tuple11)\n",
    "print(tuple12)"
   ]
  },
  {
   "cell_type": "code",
   "execution_count": 38,
   "id": "782b1aca",
   "metadata": {},
   "outputs": [
    {
     "name": "stdout",
     "output_type": "stream",
     "text": [
      "(0, 1, 2, 3, 4, 5, 6)\n",
      "(3, 4, 5, 6, 7)\n",
      "(3, 5, 7, 9, 11)\n"
     ]
    }
   ],
   "source": [
    "tuple13 = tuple(range(7))\n",
    "tuple14 = tuple(range(3,8))\n",
    "tuple15 = tuple(range(3,13,2))\n",
    "print(tuple13)\n",
    "print(tuple14)\n",
    "print(tuple15)"
   ]
  },
  {
   "cell_type": "markdown",
   "id": "f476c063",
   "metadata": {},
   "source": [
    "# 리스트와 튜플 풀어내기"
   ]
  },
  {
   "cell_type": "markdown",
   "id": "9eb36108",
   "metadata": {},
   "source": [
    "### 언팩(unpack) : 리스트나 튜플의 원소값들을 풀어 여러 변수에 대입하는 것을 말함."
   ]
  },
  {
   "cell_type": "code",
   "execution_count": 40,
   "id": "1dda4fa4",
   "metadata": {},
   "outputs": [
    {
     "name": "stdout",
     "output_type": "stream",
     "text": [
      "1 2 3\n"
     ]
    }
   ],
   "source": [
    "x = [1,2,3]\n",
    "a,b,c = x\n",
    "print(a,b,c)"
   ]
  },
  {
   "cell_type": "markdown",
   "id": "f31bf3e4",
   "metadata": {},
   "source": [
    "### 인덱스식 사용하기"
   ]
  },
  {
   "cell_type": "code",
   "execution_count": 42,
   "id": "8c720fb3",
   "metadata": {},
   "outputs": [
    {
     "name": "stdout",
     "output_type": "stream",
     "text": [
      "33\n",
      "55\n",
      "[11, 22, 33, 3.14, 55, 66, 77]\n"
     ]
    }
   ],
   "source": [
    "x = [11,22,33,44,55,66,77]\n",
    "print(x[2])\n",
    "print(x[-3])\n",
    "x[-4] = 3.14\n",
    "print(x)"
   ]
  },
  {
   "cell_type": "markdown",
   "id": "29e967ee",
   "metadata": {},
   "source": [
    "# 슬라이스식으로 원소에 접근하기"
   ]
  },
  {
   "cell_type": "markdown",
   "id": "446fbb40",
   "metadata": {},
   "source": [
    "#### s[i:j] ----- s[i] 부터 s[j-1]까지 나열합니다.\n",
    "#### s[i:j:k] --- s[i] 부터 s[j-1]까지 k씩 건너뛰며 나열합니다."
   ]
  },
  {
   "cell_type": "code",
   "execution_count": 48,
   "id": "465a0a0b",
   "metadata": {},
   "outputs": [
    {
     "name": "stdout",
     "output_type": "stream",
     "text": [
      "[11, 22, 33, 44, 55, 66]\n",
      "[11, 22, 33, 44, 55, 66, 77]\n",
      "[11, 33, 55, 77]\n",
      "[44, 55]\n",
      "[]\n",
      "[77, 66, 55, 44, 33, 22, 11]\n"
     ]
    }
   ],
   "source": [
    "s = [11,22,33,44,55,66,77]\n",
    "print(s[0:6])\n",
    "print(s[:7])\n",
    "print(s[0:7:2])\n",
    "print(s[-4:-2])\n",
    "print(s[3:1])\n",
    "print(s[::-1])"
   ]
  },
  {
   "cell_type": "code",
   "execution_count": 50,
   "id": "e155eea5",
   "metadata": {},
   "outputs": [
    {
     "name": "stdout",
     "output_type": "stream",
     "text": [
      "4 9\n"
     ]
    }
   ],
   "source": [
    "x = 6\n",
    "y = 2\n",
    "x, y = y + 2, x + 3\n",
    "print(x, y)"
   ]
  },
  {
   "cell_type": "code",
   "execution_count": 53,
   "id": "f73d5e0f",
   "metadata": {},
   "outputs": [
    {
     "name": "stdout",
     "output_type": "stream",
     "text": [
      "4314736136\n",
      "4314736168\n"
     ]
    }
   ],
   "source": [
    "n = 12\n",
    "print(id(n))\n",
    "n += 1\n",
    "print(id(n))"
   ]
  },
  {
   "cell_type": "code",
   "execution_count": 55,
   "id": "92117b98",
   "metadata": {},
   "outputs": [
    {
     "name": "stdout",
     "output_type": "stream",
     "text": [
      "<class 'int'>\n"
     ]
    },
    {
     "ename": "TypeError",
     "evalue": "type() takes 1 or 3 arguments",
     "output_type": "error",
     "traceback": [
      "\u001b[0;31m---------------------------------------------------------------------------\u001b[0m",
      "\u001b[0;31mTypeError\u001b[0m                                 Traceback (most recent call last)",
      "Cell \u001b[0;32mIn[55], line 3\u001b[0m\n\u001b[1;32m      1\u001b[0m x \u001b[38;5;241m=\u001b[39m \u001b[38;5;241m0\u001b[39m\n\u001b[1;32m      2\u001b[0m \u001b[38;5;28mprint\u001b[39m(\u001b[38;5;28mtype\u001b[39m(x\u001b[38;5;241m+\u001b[39m\u001b[38;5;241m17\u001b[39m))\n\u001b[0;32m----> 3\u001b[0m \u001b[38;5;28mprint\u001b[39m(\u001b[38;5;28;43mtype\u001b[39;49m\u001b[43m(\u001b[49m\u001b[43mx\u001b[49m\u001b[38;5;241;43m=\u001b[39;49m\u001b[38;5;241;43m17\u001b[39;49m\u001b[43m)\u001b[49m)\n",
      "\u001b[0;31mTypeError\u001b[0m: type() takes 1 or 3 arguments"
     ]
    }
   ],
   "source": [
    "x = 0\n",
    "print(type(x+17))\n",
    "print(type(x=17))"
   ]
  },
  {
   "cell_type": "markdown",
   "id": "8c78acc3",
   "metadata": {},
   "source": [
    "# len() 함수로 배열의 원소 수 구하기"
   ]
  },
  {
   "cell_type": "code",
   "execution_count": 59,
   "id": "b5fe7334",
   "metadata": {},
   "outputs": [
    {
     "name": "stdout",
     "output_type": "stream",
     "text": [
      "6\n"
     ]
    }
   ],
   "source": [
    "x = [15,64,7,3.14,[32,55],'abc']\n",
    "print(len(x))"
   ]
  },
  {
   "cell_type": "code",
   "execution_count": 64,
   "id": "ee00dd40",
   "metadata": {},
   "outputs": [
    {
     "name": "stdout",
     "output_type": "stream",
     "text": [
      "True\n",
      "True\n",
      "True\n"
     ]
    }
   ],
   "source": [
    "print([1,2,3] == [1,2,3])\n",
    "print([1,2,3] <= [1,2,4])\n",
    "print([1,2,3] <= [1,2,3,4])"
   ]
  },
  {
   "cell_type": "markdown",
   "id": "b553827e",
   "metadata": {},
   "source": [
    "# 내포 표기 생성이란?"
   ]
  },
  {
   "cell_type": "markdown",
   "id": "81ff8c86",
   "metadata": {},
   "source": [
    "### 리스트 안에서 for, if 문을 사용하여 새로운 리스트를 생성하는 기법을 내포 표기 생성이라 한다."
   ]
  },
  {
   "cell_type": "code",
   "execution_count": 65,
   "id": "64479d8c",
   "metadata": {},
   "outputs": [
    {
     "name": "stdout",
     "output_type": "stream",
     "text": [
      "[2, 6, 10]\n"
     ]
    }
   ],
   "source": [
    "numbers = [1,2,3,4,5]\n",
    "twise = [num * 2 for num in numbers if num % 2 == 1]\n",
    "print(twise)"
   ]
  }
 ],
 "metadata": {
  "kernelspec": {
   "display_name": "Python 3 (ipykernel)",
   "language": "python",
   "name": "python3"
  },
  "language_info": {
   "codemirror_mode": {
    "name": "ipython",
    "version": 3
   },
   "file_extension": ".py",
   "mimetype": "text/x-python",
   "name": "python",
   "nbconvert_exporter": "python",
   "pygments_lexer": "ipython3",
   "version": "3.11.3"
  }
 },
 "nbformat": 4,
 "nbformat_minor": 5
}
