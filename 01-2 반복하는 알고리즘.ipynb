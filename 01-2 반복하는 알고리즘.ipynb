{
 "cells": [
  {
   "cell_type": "markdown",
   "id": "e9f08c43",
   "metadata": {},
   "source": [
    "# 01-2 반복하는 알고리즘"
   ]
  },
  {
   "cell_type": "markdown",
   "id": "6119feef",
   "metadata": {},
   "source": [
    "## 1부터 n까지 정수의 합 구하기"
   ]
  },
  {
   "cell_type": "code",
   "execution_count": 7,
   "id": "613ceef5",
   "metadata": {},
   "outputs": [
    {
     "name": "stdout",
     "output_type": "stream",
     "text": [
      "1부터 n까지 정수의 합을 구하기\n",
      "n값을 입력하세요.: 50\n",
      "i값은 51 입니다.\n",
      "1275\n"
     ]
    }
   ],
   "source": [
    "# 실습 1-7 : 1부터 n까지 정수의 합 구하기(while 문)\n",
    "\n",
    "print('1부터 n까지 정수의 합을 구하기')\n",
    "n = int(input('n값을 입력하세요.: '))\n",
    "\n",
    "sum = 0\n",
    "i = 1\n",
    "\n",
    "while i <= n:\n",
    "    sum += i\n",
    "    i += 1\n",
    "\n",
    "print(\"i값은 {} 입니다.\".format(i))\n",
    "print(sum)"
   ]
  },
  {
   "cell_type": "code",
   "execution_count": 17,
   "id": "520a3acc",
   "metadata": {},
   "outputs": [
    {
     "name": "stdout",
     "output_type": "stream",
     "text": [
      "--- 1부터 n까지 정수의 합 구하기 ---\n",
      "n 값을 입력하세요.: 10\n",
      "i 값 1, sum 값 0 입니다.\n",
      "i 값 2, sum 값 1 입니다.\n",
      "i 값 3, sum 값 3 입니다.\n",
      "i 값 4, sum 값 6 입니다.\n",
      "i 값 5, sum 값 10 입니다.\n",
      "i 값 6, sum 값 15 입니다.\n",
      "i 값 7, sum 값 21 입니다.\n",
      "i 값 8, sum 값 28 입니다.\n",
      "i 값 9, sum 값 36 입니다.\n",
      "i 값 10, sum 값 45 입니다.\n",
      "i값은 10 입니다.\n",
      "55\n"
     ]
    }
   ],
   "source": [
    "# 실습 1-8 : 1부터 n까지 정수의 합 구하기 2 (for 문)\n",
    "\n",
    "print('--- 1부터 n까지 정수의 합 구하기 ---')\n",
    "n = int(input(\"n 값을 입력하세요.: \"))\n",
    "\n",
    "sum = 0\n",
    "for i in range(1,n+1):\n",
    "    print(\"i 값 {0}, sum 값 {1} 입니다.\".format(i, sum))\n",
    "    sum += i\n",
    "\n",
    "print(\"i값은 {} 입니다.\".format(i))\n",
    "print(sum)"
   ]
  },
  {
   "cell_type": "markdown",
   "id": "0c72dc05",
   "metadata": {},
   "source": [
    "## 연속하는 정수의 합을 구하기 위해 값 정렬하기"
   ]
  },
  {
   "cell_type": "code",
   "execution_count": 27,
   "id": "981b04ce",
   "metadata": {},
   "outputs": [
    {
     "name": "stdout",
     "output_type": "stream",
     "text": [
      "a 부터 b 까지 정수의 합을 구합니다.\n",
      "정수 a 를 입력하세요.: 1\n",
      "정수 b 를 입력하세요.: 10\n",
      "1 + 2 + 3 + 4 + 5 + 6 + 7 + 8 + 9 + 10 = 55\n",
      "1 + 2 + 3 + 4 + 5 + 6 + 7 + 8 + 9 + 10 = 55"
     ]
    }
   ],
   "source": [
    "# 실습 1-9 : a 부터 b 까지 정수의 합 구하기 (for 문)\n",
    "\n",
    "print('a 부터 b 까지 정수의 합을 구합니다.')\n",
    "a = int(input('정수 a 를 입력하세요.: '))\n",
    "b = int(input('정수 b 를 입력하세요.: '))\n",
    "\n",
    "if a > b :\n",
    "    a, b = b, a\n",
    "\n",
    "sum = 0\n",
    "\n",
    "for i in range(a, b+1):\n",
    "    if i < b:\n",
    "        print(\"{0} + \".format(i), end=\"\")\n",
    "    else:\n",
    "        print(\"{0} = \".format(i), end=\"\")\n",
    "    sum += i\n",
    "\n",
    "print(sum)\n",
    "\n",
    "sum = 0\n",
    "\n",
    "for i in range(a, b):\n",
    "    sum += i\n",
    "    print('{0} + '.format(i), end='')\n",
    "\n",
    "sum += b    \n",
    "\n",
    "print('{0} = {1}'.format(b, sum), end='')\n",
    "    \n",
    "#print(\"{0} 부터 {1} 까지 정수의 합은 {2} 입니다.\".format(a, b, sum))"
   ]
  },
  {
   "cell_type": "markdown",
   "id": "d0f26eda",
   "metadata": {},
   "source": [
    "## 반복 과정에서 조건 판단하기 2"
   ]
  },
  {
   "cell_type": "code",
   "execution_count": 31,
   "id": "a9a1e5b8",
   "metadata": {},
   "outputs": [
    {
     "name": "stdout",
     "output_type": "stream",
     "text": [
      "+ 와 - 를 번갈아 출력하기\n",
      "몇 개를 출력할까요?: 20\n",
      "+-+-+-+-+-+-+-+-+-+-\n",
      "+-+-+-+-+-+-+-+-+-+-\n"
     ]
    }
   ],
   "source": [
    "# + 와 - 를 번갈아 출력하기 1\n",
    "\n",
    "print('+ 와 - 를 번갈아 출력하기')\n",
    "n = int(input(\"몇 개를 출력할까요?: \"))\n",
    "\n",
    "for i in range(n):\n",
    "    if i % 2 :\n",
    "        print('-', end = '')\n",
    "    else:\n",
    "        print('+', end = '')\n",
    "print()\n",
    "\n",
    "for _ in range(n // 2): # n을 2로 나눈 몫\n",
    "    print('+-', end='')\n",
    "\n",
    "if n % 2:                # n이 홀수개 라면\n",
    "    print('+')\n",
    "print()"
   ]
  },
  {
   "cell_type": "code",
   "execution_count": 35,
   "id": "bfbe24c2",
   "metadata": {},
   "outputs": [
    {
     "name": "stdout",
     "output_type": "stream",
     "text": [
      "*를 출력합니다.\n",
      "몇 개를 출력할까요?: 4\n",
      "몇 개마다 줄바꿈할까요?: 5\n",
      "****\n",
      "****\n"
     ]
    }
   ],
   "source": [
    "# * 를 n 개 출력하되 w 개마다 줄바꿈하기\n",
    "\n",
    "print(\"*를 출력합니다.\")\n",
    "n = int(input(\"몇 개를 출력할까요?: \"))\n",
    "w = int(input(\"몇 개마다 줄바꿈할까요?: \"))\n",
    "\n",
    "for i in range(n):\n",
    "    print('*', end = '')\n",
    "    if i % w == w - 1:\n",
    "        print()\n",
    "if n % w:\n",
    "    print()\n",
    "    \n",
    "for i in range(n//w):\n",
    "    print('*' * w)\n",
    "\n",
    "rest = n % w\n",
    "\n",
    "if rest:\n",
    "    print('*' * rest)\n"
   ]
  }
 ],
 "metadata": {
  "kernelspec": {
   "display_name": "Python 3 (ipykernel)",
   "language": "python",
   "name": "python3"
  },
  "language_info": {
   "codemirror_mode": {
    "name": "ipython",
    "version": 3
   },
   "file_extension": ".py",
   "mimetype": "text/x-python",
   "name": "python",
   "nbconvert_exporter": "python",
   "pygments_lexer": "ipython3",
   "version": "3.11.3"
  }
 },
 "nbformat": 4,
 "nbformat_minor": 5
}
