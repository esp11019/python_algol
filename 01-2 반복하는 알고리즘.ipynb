{
 "cells": [
  {
   "cell_type": "markdown",
   "id": "e9f08c43",
   "metadata": {},
   "source": [
    "# 01-2 반복하는 알고리즘"
   ]
  },
  {
   "cell_type": "markdown",
   "id": "6119feef",
   "metadata": {},
   "source": [
    "## 1부터 n까지 정수의 합 구하기"
   ]
  },
  {
   "cell_type": "code",
   "execution_count": 7,
   "id": "613ceef5",
   "metadata": {},
   "outputs": [
    {
     "name": "stdout",
     "output_type": "stream",
     "text": [
      "1부터 n까지 정수의 합을 구하기\n",
      "n값을 입력하세요.: 50\n",
      "i값은 51 입니다.\n",
      "1275\n"
     ]
    }
   ],
   "source": [
    "# 실습 1-7 : 1부터 n까지 정수의 합 구하기(while 문)\n",
    "\n",
    "print('1부터 n까지 정수의 합을 구하기')\n",
    "n = int(input('n값을 입력하세요.: '))\n",
    "\n",
    "sum = 0\n",
    "i = 1\n",
    "\n",
    "while i <= n:\n",
    "    sum += i\n",
    "    i += 1\n",
    "\n",
    "print(\"i값은 {} 입니다.\".format(i))\n",
    "print(sum)"
   ]
  },
  {
   "cell_type": "code",
   "execution_count": 17,
   "id": "520a3acc",
   "metadata": {},
   "outputs": [
    {
     "name": "stdout",
     "output_type": "stream",
     "text": [
      "--- 1부터 n까지 정수의 합 구하기 ---\n",
      "n 값을 입력하세요.: 10\n",
      "i 값 1, sum 값 0 입니다.\n",
      "i 값 2, sum 값 1 입니다.\n",
      "i 값 3, sum 값 3 입니다.\n",
      "i 값 4, sum 값 6 입니다.\n",
      "i 값 5, sum 값 10 입니다.\n",
      "i 값 6, sum 값 15 입니다.\n",
      "i 값 7, sum 값 21 입니다.\n",
      "i 값 8, sum 값 28 입니다.\n",
      "i 값 9, sum 값 36 입니다.\n",
      "i 값 10, sum 값 45 입니다.\n",
      "i값은 10 입니다.\n",
      "55\n"
     ]
    }
   ],
   "source": [
    "# 실습 1-8 : 1부터 n까지 정수의 합 구하기 2 (for 문)\n",
    "\n",
    "print('--- 1부터 n까지 정수의 합 구하기 ---')\n",
    "n = int(input(\"n 값을 입력하세요.: \"))\n",
    "\n",
    "sum = 0\n",
    "for i in range(1,n+1):\n",
    "    print(\"i 값 {0}, sum 값 {1} 입니다.\".format(i, sum))\n",
    "    sum += i\n",
    "\n",
    "print(\"i값은 {} 입니다.\".format(i))\n",
    "print(sum)"
   ]
  },
  {
   "cell_type": "markdown",
   "id": "0c72dc05",
   "metadata": {},
   "source": [
    "## 연속하는 정수의 합을 구하기 위해 값 정렬하기"
   ]
  },
  {
   "cell_type": "code",
   "execution_count": 27,
   "id": "981b04ce",
   "metadata": {},
   "outputs": [
    {
     "name": "stdout",
     "output_type": "stream",
     "text": [
      "a 부터 b 까지 정수의 합을 구합니다.\n",
      "정수 a 를 입력하세요.: 1\n",
      "정수 b 를 입력하세요.: 10\n",
      "1 + 2 + 3 + 4 + 5 + 6 + 7 + 8 + 9 + 10 = 55\n",
      "1 + 2 + 3 + 4 + 5 + 6 + 7 + 8 + 9 + 10 = 55"
     ]
    }
   ],
   "source": [
    "# 실습 1-9 : a 부터 b 까지 정수의 합 구하기 (for 문)\n",
    "\n",
    "print('a 부터 b 까지 정수의 합을 구합니다.')\n",
    "a = int(input('정수 a 를 입력하세요.: '))\n",
    "b = int(input('정수 b 를 입력하세요.: '))\n",
    "\n",
    "if a > b :\n",
    "    a, b = b, a\n",
    "\n",
    "sum = 0\n",
    "\n",
    "for i in range(a, b+1):\n",
    "    if i < b:\n",
    "        print(\"{0} + \".format(i), end=\"\")\n",
    "    else:\n",
    "        print(\"{0} = \".format(i), end=\"\")\n",
    "    sum += i\n",
    "\n",
    "print(sum)\n",
    "\n",
    "sum = 0\n",
    "\n",
    "for i in range(a, b):\n",
    "    sum += i\n",
    "    print('{0} + '.format(i), end='')\n",
    "\n",
    "sum += b    \n",
    "\n",
    "print('{0} = {1}'.format(b, sum), end='')\n",
    "    \n",
    "#print(\"{0} 부터 {1} 까지 정수의 합은 {2} 입니다.\".format(a, b, sum))"
   ]
  },
  {
   "cell_type": "markdown",
   "id": "d0f26eda",
   "metadata": {},
   "source": [
    "## 반복 과정에서 조건 판단하기 2"
   ]
  },
  {
   "cell_type": "code",
   "execution_count": 31,
   "id": "a9a1e5b8",
   "metadata": {},
   "outputs": [
    {
     "name": "stdout",
     "output_type": "stream",
     "text": [
      "+ 와 - 를 번갈아 출력하기\n",
      "몇 개를 출력할까요?: 20\n",
      "+-+-+-+-+-+-+-+-+-+-\n",
      "+-+-+-+-+-+-+-+-+-+-\n"
     ]
    }
   ],
   "source": [
    "# + 와 - 를 번갈아 출력하기 1\n",
    "\n",
    "print('+ 와 - 를 번갈아 출력하기')\n",
    "n = int(input(\"몇 개를 출력할까요?: \"))\n",
    "\n",
    "for i in range(n):\n",
    "    if i % 2 :\n",
    "        print('-', end = '')\n",
    "    else:\n",
    "        print('+', end = '')\n",
    "print()\n",
    "\n",
    "for _ in range(n // 2): # n을 2로 나눈 몫\n",
    "    print('+-', end='')\n",
    "\n",
    "if n % 2:                # n이 홀수개 라면\n",
    "    print('+')\n",
    "print()"
   ]
  },
  {
   "cell_type": "code",
   "execution_count": 1,
   "id": "bfbe24c2",
   "metadata": {},
   "outputs": [
    {
     "name": "stdout",
     "output_type": "stream",
     "text": [
      "*를 출력합니다.\n",
      "몇 개를 출력할까요?: 33\n",
      "몇 개마다 줄바꿈할까요?: 5\n",
      "*****\n",
      "*****\n",
      "*****\n",
      "*****\n",
      "*****\n",
      "*****\n",
      "***\n",
      "*****\n",
      "*****\n",
      "*****\n",
      "*****\n",
      "*****\n",
      "*****\n",
      "***\n"
     ]
    }
   ],
   "source": [
    "# * 를 n 개 출력하되 w 개마다 줄바꿈하기\n",
    "\n",
    "print(\"*를 출력합니다.\")\n",
    "n = int(input(\"몇 개를 출력할까요?: \"))\n",
    "w = int(input(\"몇 개마다 줄바꿈할까요?: \"))\n",
    "\n",
    "for i in range(n):\n",
    "    print('*', end = '')\n",
    "    if i % w == w - 1:\n",
    "        print()\n",
    "if n % w:\n",
    "    print()\n",
    "    \n",
    "for i in range(n//w):\n",
    "    print('*' * w)\n",
    "\n",
    "rest = n % w\n",
    "\n",
    "if rest:\n",
    "    print('*' * rest)\n"
   ]
  },
  {
   "cell_type": "markdown",
   "id": "c8f62c41",
   "metadata": {},
   "source": [
    "## 양수만 입력받기"
   ]
  },
  {
   "cell_type": "code",
   "execution_count": 5,
   "id": "209065ba",
   "metadata": {},
   "outputs": [
    {
     "name": "stdout",
     "output_type": "stream",
     "text": [
      "1부터 n까지 정수의 합을 구합니다.\n",
      "n값을 입력하세요.: 10\n",
      "1 부터 10 까지 정수의 합은 55\n"
     ]
    }
   ],
   "source": [
    "# 실습 1-16 : 1부터 n까지 정수의 합 구하기(n값은 양수만 입력받음)\n",
    "\n",
    "print('1부터 n까지 정수의 합을 구합니다.')\n",
    "\n",
    "while True:\n",
    "    n = int(input('n값을 입력하세요.: '))\n",
    "    if n > 0:\n",
    "        break;    # n이 0보다 커질 때까지 반복\n",
    "\n",
    "sum = 0\n",
    "i = 1\n",
    "\n",
    "for i in range(1, n+1):\n",
    "    sum += i\n",
    "    #i += 1\n",
    "\n",
    "print('{0} 부터 {1} 까지 정수의 합은 {2}'.format(1, n, sum))"
   ]
  },
  {
   "cell_type": "markdown",
   "id": "5b3ad665",
   "metadata": {},
   "source": [
    "## 직사각형 넓이로 변의 길이 구하기"
   ]
  },
  {
   "cell_type": "code",
   "execution_count": 10,
   "id": "e0a95461",
   "metadata": {},
   "outputs": [
    {
     "name": "stdout",
     "output_type": "stream",
     "text": [
      "직사각형의 넓이를 입력하세요.: 10\n",
      "1 * 10\n",
      "2 * 5\n"
     ]
    }
   ],
   "source": [
    "# 실습 1-17 : 가로, 세로 길이가 정수이고 넓이가 area인 직사각형에서 변의 길이 나열하기\n",
    "\n",
    "area = int(input(\"직사각형의 넓이를 입력하세요.: \"))\n",
    "\n",
    "# 사실상 약수를 나열하는 로직임...\n",
    "for i in range(1, area+1):\n",
    "    if i * i > area : break\n",
    "    if area % i : continue \n",
    "    print('{} * {}'.format(i, area//i))"
   ]
  },
  {
   "cell_type": "code",
   "execution_count": 15,
   "id": "1673f2e3",
   "metadata": {},
   "outputs": [
    {
     "name": "stdout",
     "output_type": "stream",
     "text": [
      "난수의 개수를 입력하세요.: 20\n",
      "74 99 51 37 87 57 95 85 14 61 98 70 95 98 29 13 프로그램을 중단합니다.\n",
      "\n",
      "난수 생성을 종료합니다.\n"
     ]
    }
   ],
   "source": [
    "# 실습 1-18 : 10~99 사이의 난수 n개 생성하기 (13이 나오면 중단)\n",
    "\n",
    "import random\n",
    "\n",
    "n = int(input('난수의 개수를 입력하세요.: '))\n",
    "\n",
    "for _ in range(n):\n",
    "    r = random.randint(10,99)\n",
    "    print(r, end= ' ')\n",
    "    if r == 13:\n",
    "        print('프로그램을 중단합니다.')\n",
    "        break;\n",
    "print('\\n난수 생성을 종료합니다.')"
   ]
  },
  {
   "cell_type": "markdown",
   "id": "423b2ef5",
   "metadata": {},
   "source": [
    "## 반복문 건너뛰기와 여러 범위 스캔하기 "
   ]
  },
  {
   "cell_type": "code",
   "execution_count": 17,
   "id": "a8638f60",
   "metadata": {},
   "outputs": [
    {
     "name": "stdout",
     "output_type": "stream",
     "text": [
      "1 2 3 4 5 6 7 9 10 11 12 \n"
     ]
    }
   ],
   "source": [
    "# 실습 1-19 : 1~12까지 8을 건너뛰고 출력하기 1\n",
    "\n",
    "for i in range(1, 13):\n",
    "    if i == 8:\n",
    "        continue\n",
    "    print(i, end = ' ')\n",
    "print()"
   ]
  },
  {
   "cell_type": "code",
   "execution_count": 19,
   "id": "881c77f3",
   "metadata": {},
   "outputs": [
    {
     "name": "stdout",
     "output_type": "stream",
     "text": [
      "1 2 3 4 5 6 7 9 10 11 12 \n"
     ]
    }
   ],
   "source": [
    "# 실습 1-20 : 1부터 12까지 8을 건터뛰고 출력하기 2\n",
    "\n",
    "for i in list(range(1,8)) + list(range(9,13)):\n",
    "    print(i, end=' ')\n",
    "print()"
   ]
  },
  {
   "cell_type": "code",
   "execution_count": 22,
   "id": "94ba6cc7",
   "metadata": {},
   "outputs": [
    {
     "name": "stdout",
     "output_type": "stream",
     "text": [
      "2자리 양수를 입력하세요.\n",
      "값을 입력하세요.: 34\n",
      "입력받은 양수는 34 입니다.\n"
     ]
    }
   ],
   "source": [
    "# 실습 1C-3 : 2자리 양수(10~99) 입력받기\n",
    "\n",
    "print('2자리 양수를 입력하세요.')\n",
    "\n",
    "while True:\n",
    "    no = int(input('값을 입력하세요.: '))\n",
    "    if 10 <= no <= 99 :\n",
    "        break;\n",
    "\n",
    "print('입력받은 양수는 {} 입니다.'.format(no))"
   ]
  },
  {
   "cell_type": "markdown",
   "id": "07a3b174",
   "metadata": {},
   "source": [
    "## 다중 루프 알아보기"
   ]
  },
  {
   "cell_type": "code",
   "execution_count": 24,
   "id": "fbe061a4",
   "metadata": {},
   "outputs": [
    {
     "name": "stdout",
     "output_type": "stream",
     "text": [
      "---------------------------\n",
      "  1  2  3  4  5  6  7  8  9\n",
      "  2  4  6  8 10 12 14 16 18\n",
      "  3  6  9 12 15 18 21 24 27\n",
      "  4  8 12 16 20 24 28 32 36\n",
      "  5 10 15 20 25 30 35 40 45\n",
      "  6 12 18 24 30 36 42 48 54\n",
      "  7 14 21 28 35 42 49 56 63\n",
      "  8 16 24 32 40 48 56 64 72\n",
      "  9 18 27 36 45 54 63 72 81\n",
      "---------------------------\n"
     ]
    }
   ],
   "source": [
    "# 실습 1-21\n",
    "\n",
    "print('-' * 27)\n",
    "for i in range(1,10):\n",
    "    for j in range(1, 10):\n",
    "        print('{:3}'.format(i*j), end='')\n",
    "    print()\n",
    "print('-' * 27)"
   ]
  },
  {
   "cell_type": "code",
   "execution_count": 26,
   "id": "ad8fe2cb",
   "metadata": {},
   "outputs": [
    {
     "name": "stdout",
     "output_type": "stream",
     "text": [
      "왼쪽 아래가 직각인 이등변 삼각형을 출력합니다.\n",
      "짧은 변의 길이를 입력하세요.: 5\n",
      "*\n",
      "**\n",
      "***\n",
      "****\n",
      "*****\n"
     ]
    }
   ],
   "source": [
    "# 실습 1-22 : 왼쪽 아래가 직각인 이등변삼각형으로 * 출력하기\n",
    "\n",
    "print('왼쪽 아래가 직각인 이등변 삼각형을 출력합니다.')\n",
    "n = int(input('짧은 변의 길이를 입력하세요.: '))\n",
    "\n",
    "for i in range(n):\n",
    "    for j in range(i+1):\n",
    "        print('*', end='')\n",
    "    print()\n",
    "    "
   ]
  },
  {
   "cell_type": "code",
   "execution_count": null,
   "id": "5b00abcb",
   "metadata": {},
   "outputs": [],
   "source": [
    "# 실습 1-22 : 오른쪽 아래가 직각인 이등변삼각형으로 * 출력하기\n",
    "\n",
    "print('오른쪽 아래가 직각인 이등변 삼각형을 출력합니다.')\n",
    "n = int(input('짧은 변의 길이를 입력하세요.: '))\n",
    "\n",
    "for i in range(n):\n",
    "    for _ in range(n-i-1):\n",
    "        print(' ', end='')\n",
    "    for _ in range(i+1):\n",
    "        print('*', end='')\n",
    "    print()"
   ]
  },
  {
   "cell_type": "markdown",
   "id": "7e81e1a0",
   "metadata": {},
   "source": [
    "## 파이썬 변수 알아보기"
   ]
  },
  {
   "cell_type": "code",
   "execution_count": 31,
   "id": "353695ff",
   "metadata": {},
   "outputs": [
    {
     "name": "stdout",
     "output_type": "stream",
     "text": [
      "id(1) = 4321879208\n",
      "id(n) = 4321879208\n",
      "id(x) = 4321879208\n"
     ]
    }
   ],
   "source": [
    "n = 1\n",
    "def put_id():\n",
    "    x = 1\n",
    "    print('id(x) = {}'.format(id(x)))\n",
    "\n",
    "print('id(1) = {}'.format(id(1)))\n",
    "print('id(n) = {}'.format(id(n)))\n",
    "put_id()"
   ]
  },
  {
   "cell_type": "code",
   "execution_count": 32,
   "id": "7c0c5fc0",
   "metadata": {},
   "outputs": [
    {
     "name": "stdout",
     "output_type": "stream",
     "text": [
      "i = 4321879208\n",
      "i = 4321879240\n",
      "i = 4321879272\n",
      "i = 4321879304\n",
      "i = 4321879336\n",
      "i = 4321879368\n",
      "i = 4321879400\n",
      "i = 4321879432\n",
      "i = 4321879464\n",
      "i = 4321879496\n",
      "i = 4321879528\n",
      "i = 4321879560\n",
      "i = 4321879592\n",
      "i = 4321879624\n",
      "i = 4321879656\n",
      "i = 4321879688\n",
      "i = 4321879720\n",
      "i = 4321879752\n",
      "i = 4321879784\n",
      "i = 4321879816\n",
      "i = 4321879848\n",
      "i = 4321879880\n",
      "i = 4321879912\n",
      "i = 4321879944\n",
      "i = 4321879976\n",
      "i = 4321880008\n",
      "i = 4321880040\n",
      "i = 4321880072\n",
      "i = 4321880104\n",
      "i = 4321880136\n",
      "i = 4321880168\n",
      "i = 4321880200\n",
      "i = 4321880232\n",
      "i = 4321880264\n",
      "i = 4321880296\n",
      "i = 4321880328\n",
      "i = 4321880360\n",
      "i = 4321880392\n",
      "i = 4321880424\n",
      "i = 4321880456\n",
      "i = 4321880488\n",
      "i = 4321880520\n",
      "i = 4321880552\n",
      "i = 4321880584\n",
      "i = 4321880616\n",
      "i = 4321880648\n",
      "i = 4321880680\n",
      "i = 4321880712\n",
      "i = 4321880744\n",
      "i = 4321880776\n",
      "i = 4321880808\n",
      "i = 4321880840\n",
      "i = 4321880872\n",
      "i = 4321880904\n",
      "i = 4321880936\n",
      "i = 4321880968\n",
      "i = 4321881000\n",
      "i = 4321881032\n",
      "i = 4321881064\n",
      "i = 4321881096\n",
      "i = 4321881128\n",
      "i = 4321881160\n",
      "i = 4321881192\n",
      "i = 4321881224\n",
      "i = 4321881256\n",
      "i = 4321881288\n",
      "i = 4321881320\n",
      "i = 4321881352\n",
      "i = 4321881384\n",
      "i = 4321881416\n",
      "i = 4321881448\n",
      "i = 4321881480\n",
      "i = 4321881512\n",
      "i = 4321881544\n",
      "i = 4321881576\n",
      "i = 4321881608\n",
      "i = 4321881640\n",
      "i = 4321881672\n",
      "i = 4321881704\n",
      "i = 4321881736\n",
      "i = 4321881768\n",
      "i = 4321881800\n",
      "i = 4321881832\n",
      "i = 4321881864\n",
      "i = 4321881896\n",
      "i = 4321881928\n",
      "i = 4321881960\n",
      "i = 4321881992\n",
      "i = 4321882024\n",
      "i = 4321882056\n",
      "i = 4321882088\n",
      "i = 4321882120\n",
      "i = 4321882152\n",
      "i = 4321882184\n",
      "i = 4321882216\n",
      "i = 4321882248\n",
      "i = 4321882280\n",
      "i = 4321882312\n",
      "i = 4321882344\n",
      "i = 4321882376\n"
     ]
    }
   ],
   "source": [
    "for i in range(1, 101):\n",
    "    print('i = {:3}'.format(id(i)))"
   ]
  }
 ],
 "metadata": {
  "kernelspec": {
   "display_name": "Python 3 (ipykernel)",
   "language": "python",
   "name": "python3"
  },
  "language_info": {
   "codemirror_mode": {
    "name": "ipython",
    "version": 3
   },
   "file_extension": ".py",
   "mimetype": "text/x-python",
   "name": "python",
   "nbconvert_exporter": "python",
   "pygments_lexer": "ipython3",
   "version": "3.11.3"
  }
 },
 "nbformat": 4,
 "nbformat_minor": 5
}
