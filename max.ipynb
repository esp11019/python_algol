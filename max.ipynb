{
 "cells": [
  {
   "cell_type": "markdown",
   "id": "90dd3d86",
   "metadata": {},
   "source": [
    "# 배열 원소의 최대값 구하기"
   ]
  },
  {
   "cell_type": "code",
   "execution_count": 1,
   "id": "8076994d",
   "metadata": {},
   "outputs": [
    {
     "name": "stdout",
     "output_type": "stream",
     "text": [
      "배열의 최대값을 구합니다.\n",
      "원소 수를 입력하세요.: 5\n",
      "x[0] 값을 입력하세요.: 172\n",
      "x[1] 값을 입력하세요.: 153\n",
      "x[2] 값을 입력하세요.: 192\n",
      "x[3] 값을 입력하세요.: 140\n",
      "x[4] 값을 입력하세요.: 165\n",
      "최대값은 192 입니다.\n"
     ]
    }
   ],
   "source": [
    "from typing import Any, Sequence\n",
    "# Any : 제약이 없는 임의의 자료형을 의미\n",
    "# Sequence : 시퀀스형을 의미, 시퀀스형에는 list형, bytearray형, str형, tuple형, bytes형이 있음\n",
    "\n",
    "\n",
    "\n",
    "def max_of(a: Sequence)->Any:\n",
    "    # a: Sequence : 건네받는 매개변수 a의 자료형은 Sequence입니다.\n",
    "    # -> Any : 반환하는 것은 임의의 자료형인 Any입니다.\n",
    "    '''\n",
    "        - 호출하는 쪽이 넘겨주는 실제 인수의 자료형은 뮤터블인 리스트, 이뮤터블인 튜플, 문자열 등 시퀀스형이라면 무엇이든 가능\n",
    "        - 인수의 원소를 비교 연산자 > 로 값을 비교할 수 있다면 다른 형(int, float)이 섞여 있어도 괜춘\n",
    "        - 최대값의 원소가 int형 원소이면 int형 값을 반환하고, float형 원소이면 float형 값을 반환한다.\n",
    "    '''\n",
    "    maximum = a[0]\n",
    "    for i in range(1,len(a)):\n",
    "        if a[i] > maximum:\n",
    "            maximum = a[i]\n",
    "    return maximum\n",
    "\n",
    "if __name__ == '__main__':\n",
    "    '''\n",
    "        - 스크립트 프로그램이 직접 실행될 때 변수 __name__은 '__main__'입니다.\n",
    "        - 스크립트 프로그램이 임포트될 때 변수 __name__은 원래의 모듈 이름입니다.\n",
    "    '''\n",
    "    print('배열의 최대값을 구합니다.')\n",
    "    num = int(input('원소 수를 입력하세요.: '))\n",
    "    x = [None] * num\n",
    "    \n",
    "    for i in range(num):\n",
    "        x[i] = int(input('x[{0}] 값을 입력하세요.: '.format(i)))\n",
    "    \n",
    "    print('최대값은 {0} 입니다.'.format(max_of(x)))"
   ]
  }
 ],
 "metadata": {
  "kernelspec": {
   "display_name": "Python 3 (ipykernel)",
   "language": "python",
   "name": "python3"
  },
  "language_info": {
   "codemirror_mode": {
    "name": "ipython",
    "version": 3
   },
   "file_extension": ".py",
   "mimetype": "text/x-python",
   "name": "python",
   "nbconvert_exporter": "python",
   "pygments_lexer": "ipython3",
   "version": "3.11.3"
  }
 },
 "nbformat": 4,
 "nbformat_minor": 5
}
