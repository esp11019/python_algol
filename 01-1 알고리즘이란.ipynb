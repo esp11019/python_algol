{
 "cells": [
  {
   "cell_type": "code",
   "execution_count": 2,
   "id": "5d9e30c5",
   "metadata": {},
   "outputs": [
    {
     "name": "stdout",
     "output_type": "stream",
     "text": [
      "이름을 입력하세요.:정세훈\n",
      "안녕하세요? 정세훈 님.\n"
     ]
    }
   ],
   "source": [
    "# 1C-1\n",
    "name = input(\"이름을 입력하세요.:\")\n",
    "print(f'안녕하세요? {name} 님.')"
   ]
  },
  {
   "cell_type": "code",
   "execution_count": 5,
   "id": "2cc945ea",
   "metadata": {},
   "outputs": [
    {
     "name": "stdout",
     "output_type": "stream",
     "text": [
      "3\n",
      "3\n",
      "3\n",
      "3\n",
      "3\n",
      "3\n",
      "3\n",
      "2\n",
      "1\n",
      "11 10\n"
     ]
    }
   ],
   "source": [
    "# 실습 1-2\n",
    "def max3(a, b, c):\n",
    "    maximum = a\n",
    "    if b > maximum: maximum = b\n",
    "    if c > maximum : maximum = c\n",
    "    return maximum\n",
    "\n",
    "print(max3(1,2,3))\n",
    "print(max3(1,3,2))\n",
    "print(max3(2,1,3))\n",
    "print(max3(2,3,1))\n",
    "print(max3(3,2,1))\n",
    "print(max3(3,1,2))\n",
    "\n",
    "print(max3(3,3,3))\n",
    "print(max3(2,2,2))\n",
    "print(max3(1,1,1))\n",
    "\n",
    "a = 11\n",
    "b = 10\n",
    "if a > b : max2 = a; min2 = b; \n",
    "print(max2, min2)"
   ]
  },
  {
   "cell_type": "code",
   "execution_count": 8,
   "id": "f088427e",
   "metadata": {},
   "outputs": [
    {
     "name": "stdout",
     "output_type": "stream",
     "text": [
      "세 정수의 중앙값을 구하시오\n",
      "정수 a의 값을 넣으시오.: 3\n",
      "정수 b의 값을 넣으시오.: 1\n",
      "정수 c의 값을 넣으시오.: 2\n",
      "2\n"
     ]
    }
   ],
   "source": [
    "# 1C-2 : 세 정수를 입력받아 중앙값 구하기 1\n",
    "\n",
    "def med3(a, b, c):\n",
    "    if a>=b :\n",
    "        if b>=c :\n",
    "            return b\n",
    "        elif a<=c :\n",
    "            return a\n",
    "        else :\n",
    "            return c\n",
    "    elif a > c :\n",
    "        return a\n",
    "    elif b > c :\n",
    "        return c\n",
    "    else :\n",
    "        return b\n",
    "    \n",
    "print(\"세 정수의 중앙값을 구하시오\")\n",
    "a = int(input(\"정수 a의 값을 넣으시오.: \"))\n",
    "b = int(input(\"정수 b의 값을 넣으시오.: \"))\n",
    "c = int(input(\"정수 c의 값을 넣으시오.: \"))\n",
    "print(med3(a, b, c))"
   ]
  },
  {
   "cell_type": "code",
   "execution_count": 13,
   "id": "d195a9d6",
   "metadata": {},
   "outputs": [
    {
     "name": "stdout",
     "output_type": "stream",
     "text": [
      "세 정수의 중앙값을 구하시오\n",
      "정수 a의 값을 넣으시오.: 8\n",
      "정수 b의 값을 넣으시오.: 4\n",
      "정수 c의 값을 넣으시오.: 4\n",
      "4\n"
     ]
    }
   ],
   "source": [
    "def med4(a, b, c):\n",
    "    if (b >= a and c <= a) or (b <= a and c >= a):\n",
    "        return a\n",
    "    elif (a > b and c < b) or (a < b and c > b):\n",
    "        return b\n",
    "    return c\n",
    "\n",
    "print(\"세 정수의 중앙값을 구하시오\")\n",
    "a = int(input(\"정수 a의 값을 넣으시오.: \"))\n",
    "b = int(input(\"정수 b의 값을 넣으시오.: \"))\n",
    "c = int(input(\"정수 c의 값을 넣으시오.: \"))\n",
    "print(med4(a, b, c))"
   ]
  },
  {
   "cell_type": "code",
   "execution_count": 19,
   "id": "15354e40",
   "metadata": {},
   "outputs": [
    {
     "name": "stdout",
     "output_type": "stream",
     "text": [
      "정수를 입력하세요.: 5\n",
      "양수\n"
     ]
    }
   ],
   "source": [
    "# 실습 1-3 : 입력받은 정수의 부호(양수, 음수, 0) 출력하기\n",
    "\n",
    "n = int(input(\"정수를 입력하세요.: \"))\n",
    "\n",
    "if n > 0:\n",
    "    print(\"양수\")\n",
    "elif n < 0:\n",
    "    print(\"음수\")\n",
    "else:\n",
    "    print(\"0\")      "
   ]
  },
  {
   "cell_type": "code",
   "execution_count": 20,
   "id": "0615ca83",
   "metadata": {},
   "outputs": [
    {
     "name": "stdout",
     "output_type": "stream",
     "text": [
      "정수를 입력하세요.: 6\n"
     ]
    }
   ],
   "source": [
    "# 실습 1-6 : 4개로 분기하는 조건문\n",
    "n = int(input(\"정수를 입력하세요.: \"))\n",
    "\n",
    "if n == 1:\n",
    "    print('a')\n",
    "elif n == 2:\n",
    "    print('b')\n",
    "elif n == 3:\n",
    "    print('c')\n",
    "else:\n",
    "    pass"
   ]
  }
 ],
 "metadata": {
  "kernelspec": {
   "display_name": "Python 3 (ipykernel)",
   "language": "python",
   "name": "python3"
  },
  "language_info": {
   "codemirror_mode": {
    "name": "ipython",
    "version": 3
   },
   "file_extension": ".py",
   "mimetype": "text/x-python",
   "name": "python",
   "nbconvert_exporter": "python",
   "pygments_lexer": "ipython3",
   "version": "3.11.3"
  }
 },
 "nbformat": 4,
 "nbformat_minor": 5
}
